{
 "cells": [
  {
   "cell_type": "code",
   "execution_count": 23,
   "metadata": {},
   "outputs": [],
   "source": [
    "import numpy as np\n",
    "import random"
   ]
  },
  {
   "cell_type": "code",
   "execution_count": 82,
   "metadata": {},
   "outputs": [],
   "source": [
    "def predict(team1_p1, team1_p2, team2_p1, team2_p2):\n",
    "    pow_factor=40\n",
    "    ep1 = ((1/(1+pow(10, (team2_p1-team1_p1)/pow_factor)))+(1/(1+pow(10, (team2_p2-team1_p1)/pow_factor))))/2\n",
    "    ep2 = ((1/(1+pow(10, (team2_p1-team1_p2)/pow_factor)))+(1/(1+pow(10, (team2_p2-team1_p2)/pow_factor))))/2\n",
    "    ep3 = ((1/(1+pow(10, (team1_p1-team2_p1)/pow_factor)))+(1/(1+pow(10, (team1_p2-team2_p1)/pow_factor))))/2\n",
    "    ep4 = ((1/(1+pow(10, (team1_p1-team2_p2)/pow_factor)))+(1/(1+pow(10, (team1_p2-team2_p2)/pow_factor))))/2\n",
    "    et1 = (ep1+ep2)/2\n",
    "    et2 = (ep3+ep4)/2\n",
    "    return et1, et2, ep1, ep2, ep3, ep4"
   ]
  },
  {
   "cell_type": "code",
   "execution_count": 41,
   "metadata": {},
   "outputs": [],
   "source": [
    "def gauss(a, b, n=10000, mu=10):\n",
    "    arr_a = [random.gauss(a, mu) for i in range(n)]\n",
    "    arr_b = [random.gauss(b, mu) for i in range(n)]\n",
    "    return sum([1 if arr_a[i] > arr_b[i] else 0 for i in range(n)])/n"
   ]
  },
  {
   "cell_type": "code",
   "execution_count": 69,
   "metadata": {},
   "outputs": [
    {
     "data": {
      "text/plain": [
       "0.5479"
      ]
     },
     "execution_count": 69,
     "metadata": {},
     "output_type": "execute_result"
    }
   ],
   "source": [
    "gauss(102, 100, n=10000, mu=15)"
   ]
  },
  {
   "cell_type": "code",
   "execution_count": 44,
   "metadata": {},
   "outputs": [],
   "source": [
    "def comb(n):\n",
    "    ans = []\n",
    "    for i in range(10):\n",
    "        linear = ((i/10)*n) + (1-i/10)*100\n",
    "        ans.append(gauss(linear, 100))\n",
    "    return ans"
   ]
  },
  {
   "cell_type": "code",
   "execution_count": 84,
   "metadata": {},
   "outputs": [
    {
     "data": {
      "text/plain": [
       "(0.15097955721132328,\n",
       " 0.8490204427886767,\n",
       " 0.15097955721132328,\n",
       " 0.15097955721132328,\n",
       " 0.8490204427886767,\n",
       " 0.8490204427886767)"
      ]
     },
     "execution_count": 84,
     "metadata": {},
     "output_type": "execute_result"
    }
   ],
   "source": [
    "predict(100, 100, 130, 130)"
   ]
  },
  {
   "cell_type": "code",
   "execution_count": 9,
   "metadata": {},
   "outputs": [
    {
     "data": {
      "text/plain": [
       "0.5"
      ]
     },
     "execution_count": 9,
     "metadata": {},
     "output_type": "execute_result"
    }
   ],
   "source": [
    "1/(1+pow(10, (100-100)/50))"
   ]
  }
 ],
 "metadata": {
  "kernelspec": {
   "display_name": "ELO",
   "language": "python",
   "name": "python3"
  },
  "language_info": {
   "codemirror_mode": {
    "name": "ipython",
    "version": 3
   },
   "file_extension": ".py",
   "mimetype": "text/x-python",
   "name": "python",
   "nbconvert_exporter": "python",
   "pygments_lexer": "ipython3",
   "version": "3.8.5"
  },
  "orig_nbformat": 4
 },
 "nbformat": 4,
 "nbformat_minor": 2
}
