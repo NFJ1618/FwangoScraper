{
 "cells": [
  {
   "cell_type": "code",
   "execution_count": 1,
   "metadata": {},
   "outputs": [],
   "source": [
    "import pandas as pd\n",
    "import os\n",
    "import numpy as np\n",
    "import json"
   ]
  },
  {
   "cell_type": "code",
   "execution_count": 2,
   "metadata": {},
   "outputs": [],
   "source": [
    "dirs = [\n",
    "'sts'\n",
    "    # 'casr',\n",
    "    # 'ers', \n",
    "    # 'ets',\n",
    "    # 'fra',\n",
    "    # 'misc',\n",
    "    # 'mra',\n",
    "    # 'pra',\n",
    "    # 'rotc',\n",
    "    # 'sts',\n",
    "    # 'tasr',\n",
    "    # 'bcr',\n",
    "    # 'gwr',\n",
    "    # 'psr',\n",
    "    # 'ura'\n",
    "]\n"
   ]
  },
  {
   "cell_type": "code",
   "execution_count": 3,
   "metadata": {},
   "outputs": [
    {
     "name": "stdout",
     "output_type": "stream",
     "text": [
      "sts\n",
      "tournaments.csv\n",
      "divisionTeamResults.csv\n",
      "games.csv\n",
      "series.csv\n",
      "teamObjects.csv\n",
      "divisionTeamResults.csv\n",
      "games.csv\n",
      "series.csv\n",
      "teamObjects.csv\n",
      "divisionTeamResults.csv\n",
      "games.csv\n",
      "series.csv\n",
      "teamObjects.csv\n",
      "divisionTeamResults.csv\n",
      "games.csv\n",
      "series.csv\n",
      "teamObjects.csv\n",
      "divisionTeamResults.csv\n",
      "games.csv\n",
      "series.csv\n",
      "teamObjects.csv\n",
      "divisionTeamResults.csv\n",
      "games.csv\n",
      "series.csv\n",
      "teamObjects.csv\n",
      "divisionTeamResults.csv\n",
      "games.csv\n",
      "series.csv\n",
      "teamObjects.csv\n",
      "divisionTeamResults.csv\n",
      "games.csv\n",
      "series.csv\n",
      "teamObjects.csv\n",
      "divisionTeamResults.csv\n",
      "games.csv\n",
      "series.csv\n",
      "teamObjects.csv\n",
      "divisionTeamResults.csv\n",
      "games.csv\n",
      "series.csv\n",
      "teamObjects.csv\n",
      "divisionTeamResults.csv\n",
      "games.csv\n",
      "series.csv\n",
      "teamObjects.csv\n",
      "divisionTeamResults.csv\n",
      "games.csv\n",
      "series.csv\n",
      "teamObjects.csv\n",
      "divisionTeamResults.csv\n",
      "games.csv\n",
      "series.csv\n",
      "teamObjects.csv\n",
      "divisionTeamResults.csv\n",
      "games.csv\n",
      "series.csv\n",
      "teamObjects.csv\n",
      "divisionTeamResults.csv\n",
      "games.csv\n",
      "series.csv\n",
      "teamObjects.csv\n",
      "divisionTeamResults.csv\n",
      "games.csv\n",
      "series.csv\n",
      "teamObjects.csv\n",
      "divisionTeamResults.csv\n",
      "games.csv\n",
      "series.csv\n",
      "teamObjects.csv\n",
      "divisionTeamResults.csv\n",
      "games.csv\n",
      "series.csv\n",
      "teamObjects.csv\n",
      "divisionTeamResults.csv\n",
      "games.csv\n",
      "series.csv\n",
      "teamObjects.csv\n",
      "divisionTeamResults.csv\n",
      "games.csv\n",
      "series.csv\n",
      "teamObjects.csv\n",
      "divisionTeamResults.csv\n",
      "games.csv\n",
      "series.csv\n",
      "teamObjects.csv\n",
      "divisionTeamResults.csv\n",
      "games.csv\n",
      "series.csv\n",
      "teamObjects.csv\n",
      "divisionTeamResults.csv\n",
      "games.csv\n",
      "series.csv\n",
      "teamObjects.csv\n",
      "divisionTeamResults.csv\n",
      "games.csv\n",
      "series.csv\n",
      "teamObjects.csv\n",
      "divisionTeamResults.csv\n",
      "games.csv\n",
      "series.csv\n",
      "teamObjects.csv\n",
      "divisionTeamResults.csv\n",
      "games.csv\n",
      "series.csv\n",
      "teamObjects.csv\n",
      "divisionTeamResults.csv\n",
      "games.csv\n",
      "series.csv\n",
      "teamObjects.csv\n"
     ]
    }
   ],
   "source": [
    "dfs = []\n",
    "\n",
    "for d in dirs:\n",
    "    print(d)\n",
    "    for root, dirs, files in os.walk(f\"../data/{d}\"):\n",
    "        for file in files:\n",
    "            print(file)\n",
    "            if file == 'games.csv':\n",
    "                filepath = os.path.join(root, file)\n",
    "                df = pd.read_csv(filepath)\n",
    "                dfs.append(df)"
   ]
  },
  {
   "cell_type": "code",
   "execution_count": 4,
   "metadata": {},
   "outputs": [
    {
     "data": {
      "text/plain": [
       "27"
      ]
     },
     "execution_count": 4,
     "metadata": {},
     "output_type": "execute_result"
    }
   ],
   "source": [
    "len(dfs)"
   ]
  },
  {
   "cell_type": "code",
   "execution_count": 5,
   "metadata": {},
   "outputs": [],
   "source": [
    "merged_dfs = pd.concat(dfs)"
   ]
  },
  {
   "cell_type": "code",
   "execution_count": 6,
   "metadata": {},
   "outputs": [
    {
     "data": {
      "text/plain": [
       "(16824, 9)"
      ]
     },
     "execution_count": 6,
     "metadata": {},
     "output_type": "execute_result"
    }
   ],
   "source": [
    "merged_dfs.shape"
   ]
  },
  {
   "cell_type": "code",
   "execution_count": 8,
   "metadata": {},
   "outputs": [],
   "source": [
    "og_tourney_names = set(merged_dfs['Tournament Name'].unique())"
   ]
  },
  {
   "cell_type": "code",
   "execution_count": 9,
   "metadata": {},
   "outputs": [],
   "source": [
    "divisions = list(merged_dfs['Division'].unique())"
   ]
  },
  {
   "cell_type": "code",
   "execution_count": 17,
   "metadata": {},
   "outputs": [],
   "source": [
    "with open('division_map_test.json', 'w') as f:\n",
    "    f.write(json.dumps(divisions))"
   ]
  },
  {
   "cell_type": "code",
   "execution_count": 11,
   "metadata": {},
   "outputs": [],
   "source": [
    "s = merged_dfs['Division'].unique()"
   ]
  },
  {
   "cell_type": "code",
   "execution_count": 9,
   "metadata": {},
   "outputs": [],
   "source": [
    "a = ['4', '5.0', 'Premier', 'Contender', 'NHZ', 'Gold']\n",
    "b = ['Women', 'Mixed']\n",
    "def check(k):\n",
    "    return any([x in k for x in a]) and not any([y in k for y in b])\n",
    "\n",
    "s = [i for i in s if check(i)]"
   ]
  },
  {
   "cell_type": "code",
   "execution_count": 29,
   "metadata": {},
   "outputs": [
    {
     "name": "stdout",
     "output_type": "stream",
     "text": [
      "['Challenger']\n"
     ]
    }
   ],
   "source": [
    "print([i for i in s if 'Challenger' in i])"
   ]
  },
  {
   "cell_type": "code",
   "execution_count": 7,
   "metadata": {},
   "outputs": [],
   "source": [
    "should_contain = ['4', '5.0', 'Premier', 'Contender', 'NHZ', 'Gold', 'Challenger', 'Expert', 'Pro', 'Advanced']\n",
    "\n",
    "# Strings that shouldn't be present\n",
    "should_not_contain = ['Women', 'Mixed', '2.', 'Coed']\n",
    "\n",
    "# Filtering the DataFrame\n",
    "mask = merged_dfs['Division'].str.contains('|'.join(should_contain))\n",
    "\n",
    "for string in should_not_contain:\n",
    "    mask &= ~merged_dfs['Division'].str.contains(string)\n",
    "\n",
    "filtered_df = merged_dfs[mask]\n"
   ]
  },
  {
   "cell_type": "code",
   "execution_count": 8,
   "metadata": {},
   "outputs": [
    {
     "data": {
      "text/plain": [
       "(11139, 9)"
      ]
     },
     "execution_count": 8,
     "metadata": {},
     "output_type": "execute_result"
    }
   ],
   "source": [
    "filtered_df.shape"
   ]
  },
  {
   "cell_type": "code",
   "execution_count": 9,
   "metadata": {},
   "outputs": [
    {
     "name": "stderr",
     "output_type": "stream",
     "text": [
      "C:\\Users\\jaipa\\AppData\\Local\\Temp\\ipykernel_56768\\458245888.py:19: SettingWithCopyWarning: \n",
      "A value is trying to be set on a copy of a slice from a DataFrame.\n",
      "Try using .loc[row_indexer,col_indexer] = value instead\n",
      "\n",
      "See the caveats in the documentation: https://pandas.pydata.org/pandas-docs/stable/user_guide/indexing.html#returning-a-view-versus-a-copy\n",
      "  filtered_df['Category'] = np.select(conditions, choices, default='Other')\n"
     ]
    }
   ],
   "source": [
    "top_should_have = ['Premier', 'Pro', '5.0+']\n",
    "top_should_not_have = ['4.']\n",
    "high_should_have = ['Gold', '5.', '4.5', 'Expert', 'Contender', 'Challenger']\n",
    "high_should_not_have = ['4.0', '3.']\n",
    "medium_should_have = ['4.0', 'Advanced']\n",
    "medium_should_not_have = ['3.']\n",
    "low = ['3']\n",
    "\n",
    "conditions = [\n",
    "    filtered_df['Division'].str.contains('|'.join(top_should_have)) & ~filtered_df['Division'].str.contains('|'.join(top_should_not_have)),\n",
    "    filtered_df['Division'].str.contains('|'.join(high_should_have)) & ~filtered_df['Division'].str.contains('|'.join(high_should_not_have)),\n",
    "    filtered_df['Division'].str.contains('|'.join(medium_should_have)) & ~filtered_df['Division'].str.contains('|'.join(medium_should_not_have)),\n",
    "    filtered_df['Division'].str.contains('|'.join(low)),\n",
    "]\n",
    "\n",
    "# Corresponding values for each condition\n",
    "choices = ['Top','High',  'Medium', 'Low']\n",
    "\n",
    "filtered_df['Category'] = np.select(conditions, choices, default='Other')"
   ]
  },
  {
   "cell_type": "code",
   "execution_count": 13,
   "metadata": {},
   "outputs": [
    {
     "data": {
      "text/plain": [
       "array(['Premier (5.0)', 'Premier 5.0+', '5.0+ Premier (Open)',\n",
       "       'Open Gold/Premier', 'Premier 5.0', 'Premier (5.0+)',\n",
       "       'Expert 5.0+', 'Premier', 'Premier(5.0)'], dtype=object)"
      ]
     },
     "execution_count": 13,
     "metadata": {},
     "output_type": "execute_result"
    }
   ],
   "source": [
    "filtered_df[filtered_df['Category']=='Top']['Division'].unique()"
   ]
  },
  {
   "cell_type": "code",
   "execution_count": 15,
   "metadata": {},
   "outputs": [
    {
     "data": {
      "text/html": [
       "<div>\n",
       "<style scoped>\n",
       "    .dataframe tbody tr th:only-of-type {\n",
       "        vertical-align: middle;\n",
       "    }\n",
       "\n",
       "    .dataframe tbody tr th {\n",
       "        vertical-align: top;\n",
       "    }\n",
       "\n",
       "    .dataframe thead th {\n",
       "        text-align: right;\n",
       "    }\n",
       "</style>\n",
       "<table border=\"1\" class=\"dataframe\">\n",
       "  <thead>\n",
       "    <tr style=\"text-align: right;\">\n",
       "      <th></th>\n",
       "      <th>Team 1</th>\n",
       "      <th>Team 2</th>\n",
       "      <th>Players 1</th>\n",
       "      <th>Players 2</th>\n",
       "      <th>Score 1</th>\n",
       "      <th>Score 2</th>\n",
       "      <th>Tournament Stage</th>\n",
       "      <th>Tournament Name</th>\n",
       "      <th>Division</th>\n",
       "      <th>Category</th>\n",
       "    </tr>\n",
       "  </thead>\n",
       "  <tbody>\n",
       "    <tr>\n",
       "      <th>0</th>\n",
       "      <td>Insystem</td>\n",
       "      <td>AZR Spinrates</td>\n",
       "      <td>blake bosak, etienne cote</td>\n",
       "      <td>david mitchell, jackson blackburn</td>\n",
       "      <td>21</td>\n",
       "      <td>9</td>\n",
       "      <td>Pool Play</td>\n",
       "      <td>scgrandslam2023</td>\n",
       "      <td>Expert 5.0+</td>\n",
       "      <td>High</td>\n",
       "    </tr>\n",
       "    <tr>\n",
       "      <th>1</th>\n",
       "      <td>Rowdy</td>\n",
       "      <td>Arrow’s Assless Chaps</td>\n",
       "      <td>ryan oswalt, trevor barbosa</td>\n",
       "      <td>garrett meredith, schon siguenza</td>\n",
       "      <td>21</td>\n",
       "      <td>16</td>\n",
       "      <td>Pool Play</td>\n",
       "      <td>scgrandslam2023</td>\n",
       "      <td>Expert 5.0+</td>\n",
       "      <td>High</td>\n",
       "    </tr>\n",
       "    <tr>\n",
       "      <th>2</th>\n",
       "      <td>Bad Combo</td>\n",
       "      <td>Dive Hard</td>\n",
       "      <td>rahul murthy, will picone</td>\n",
       "      <td>cole sanchez, nolan wynkoop</td>\n",
       "      <td>21</td>\n",
       "      <td>10</td>\n",
       "      <td>Pool Play</td>\n",
       "      <td>scgrandslam2023</td>\n",
       "      <td>Expert 5.0+</td>\n",
       "      <td>High</td>\n",
       "    </tr>\n",
       "    <tr>\n",
       "      <th>3</th>\n",
       "      <td>The Rule of two</td>\n",
       "      <td>Misclick</td>\n",
       "      <td>malachi espinola, zack duffy</td>\n",
       "      <td>charlie camarena, tim gaskin</td>\n",
       "      <td>21</td>\n",
       "      <td>15</td>\n",
       "      <td>Pool Play</td>\n",
       "      <td>scgrandslam2023</td>\n",
       "      <td>Expert 5.0+</td>\n",
       "      <td>High</td>\n",
       "    </tr>\n",
       "    <tr>\n",
       "      <th>4</th>\n",
       "      <td>Cerebral Drizzle</td>\n",
       "      <td>Top of the Hill</td>\n",
       "      <td>ethan mcwhirter, matthew burrows</td>\n",
       "      <td>benjamin bunze, jake oxendine</td>\n",
       "      <td>21</td>\n",
       "      <td>12</td>\n",
       "      <td>Pool Play</td>\n",
       "      <td>scgrandslam2023</td>\n",
       "      <td>Expert 5.0+</td>\n",
       "      <td>High</td>\n",
       "    </tr>\n",
       "    <tr>\n",
       "      <th>...</th>\n",
       "      <td>...</td>\n",
       "      <td>...</td>\n",
       "      <td>...</td>\n",
       "      <td>...</td>\n",
       "      <td>...</td>\n",
       "      <td>...</td>\n",
       "      <td>...</td>\n",
       "      <td>...</td>\n",
       "      <td>...</td>\n",
       "      <td>...</td>\n",
       "    </tr>\n",
       "    <tr>\n",
       "      <th>308</th>\n",
       "      <td>Dylan</td>\n",
       "      <td>Capobianco/Sandberg</td>\n",
       "      <td>dylan bricker, dylan medveal</td>\n",
       "      <td>camden sandberg, michael capobianco</td>\n",
       "      <td>21</td>\n",
       "      <td>13</td>\n",
       "      <td>Bracket play round of 19th place game 1</td>\n",
       "      <td>tograndslam2023</td>\n",
       "      <td>Expert 5.0+</td>\n",
       "      <td>High</td>\n",
       "    </tr>\n",
       "    <tr>\n",
       "      <th>309</th>\n",
       "      <td>Dylan</td>\n",
       "      <td>Capobianco/Sandberg</td>\n",
       "      <td>dylan bricker, dylan medveal</td>\n",
       "      <td>camden sandberg, michael capobianco</td>\n",
       "      <td>21</td>\n",
       "      <td>18</td>\n",
       "      <td>Bracket play round of 19th place game 2</td>\n",
       "      <td>tograndslam2023</td>\n",
       "      <td>Expert 5.0+</td>\n",
       "      <td>High</td>\n",
       "    </tr>\n",
       "    <tr>\n",
       "      <th>310</th>\n",
       "      <td>Capobianco/Sandberg</td>\n",
       "      <td>Acing Ethan and Matt is the best</td>\n",
       "      <td>camden sandberg, michael capobianco</td>\n",
       "      <td>clifton miller, john choi</td>\n",
       "      <td>-1</td>\n",
       "      <td>-1</td>\n",
       "      <td>Bracket play round of 25th place game 1</td>\n",
       "      <td>tograndslam2023</td>\n",
       "      <td>Expert 5.0+</td>\n",
       "      <td>High</td>\n",
       "    </tr>\n",
       "    <tr>\n",
       "      <th>311</th>\n",
       "      <td>Capobianco/Sandberg</td>\n",
       "      <td>Acing Ethan and Matt is the best</td>\n",
       "      <td>camden sandberg, michael capobianco</td>\n",
       "      <td>clifton miller, john choi</td>\n",
       "      <td>-1</td>\n",
       "      <td>-1</td>\n",
       "      <td>Bracket play round of 25th place game 2</td>\n",
       "      <td>tograndslam2023</td>\n",
       "      <td>Expert 5.0+</td>\n",
       "      <td>High</td>\n",
       "    </tr>\n",
       "    <tr>\n",
       "      <th>312</th>\n",
       "      <td>Capobianco/Sandberg</td>\n",
       "      <td>Acing Ethan and Matt is the best</td>\n",
       "      <td>camden sandberg, michael capobianco</td>\n",
       "      <td>clifton miller, john choi</td>\n",
       "      <td>-1</td>\n",
       "      <td>-1</td>\n",
       "      <td>Bracket play round of 25th place game 3</td>\n",
       "      <td>tograndslam2023</td>\n",
       "      <td>Expert 5.0+</td>\n",
       "      <td>High</td>\n",
       "    </tr>\n",
       "  </tbody>\n",
       "</table>\n",
       "<p>548 rows × 10 columns</p>\n",
       "</div>"
      ],
      "text/plain": [
       "                  Team 1                            Team 2  \\\n",
       "0               Insystem                     AZR Spinrates   \n",
       "1                  Rowdy             Arrow’s Assless Chaps   \n",
       "2              Bad Combo                         Dive Hard   \n",
       "3        The Rule of two                          Misclick   \n",
       "4       Cerebral Drizzle                   Top of the Hill   \n",
       "..                   ...                               ...   \n",
       "308                Dylan               Capobianco/Sandberg   \n",
       "309                Dylan               Capobianco/Sandberg   \n",
       "310  Capobianco/Sandberg  Acing Ethan and Matt is the best   \n",
       "311  Capobianco/Sandberg  Acing Ethan and Matt is the best   \n",
       "312  Capobianco/Sandberg  Acing Ethan and Matt is the best   \n",
       "\n",
       "                               Players 1                            Players 2  \\\n",
       "0              blake bosak, etienne cote    david mitchell, jackson blackburn   \n",
       "1            ryan oswalt, trevor barbosa     garrett meredith, schon siguenza   \n",
       "2              rahul murthy, will picone          cole sanchez, nolan wynkoop   \n",
       "3           malachi espinola, zack duffy         charlie camarena, tim gaskin   \n",
       "4       ethan mcwhirter, matthew burrows        benjamin bunze, jake oxendine   \n",
       "..                                   ...                                  ...   \n",
       "308         dylan bricker, dylan medveal  camden sandberg, michael capobianco   \n",
       "309         dylan bricker, dylan medveal  camden sandberg, michael capobianco   \n",
       "310  camden sandberg, michael capobianco            clifton miller, john choi   \n",
       "311  camden sandberg, michael capobianco            clifton miller, john choi   \n",
       "312  camden sandberg, michael capobianco            clifton miller, john choi   \n",
       "\n",
       "    Score 1 Score 2                         Tournament Stage  Tournament Name  \\\n",
       "0        21       9                                Pool Play  scgrandslam2023   \n",
       "1        21      16                                Pool Play  scgrandslam2023   \n",
       "2        21      10                                Pool Play  scgrandslam2023   \n",
       "3        21      15                                Pool Play  scgrandslam2023   \n",
       "4        21      12                                Pool Play  scgrandslam2023   \n",
       "..      ...     ...                                      ...              ...   \n",
       "308      21      13  Bracket play round of 19th place game 1  tograndslam2023   \n",
       "309      21      18  Bracket play round of 19th place game 2  tograndslam2023   \n",
       "310      -1      -1  Bracket play round of 25th place game 1  tograndslam2023   \n",
       "311      -1      -1  Bracket play round of 25th place game 2  tograndslam2023   \n",
       "312      -1      -1  Bracket play round of 25th place game 3  tograndslam2023   \n",
       "\n",
       "        Division Category  \n",
       "0    Expert 5.0+     High  \n",
       "1    Expert 5.0+     High  \n",
       "2    Expert 5.0+     High  \n",
       "3    Expert 5.0+     High  \n",
       "4    Expert 5.0+     High  \n",
       "..           ...      ...  \n",
       "308  Expert 5.0+     High  \n",
       "309  Expert 5.0+     High  \n",
       "310  Expert 5.0+     High  \n",
       "311  Expert 5.0+     High  \n",
       "312  Expert 5.0+     High  \n",
       "\n",
       "[548 rows x 10 columns]"
      ]
     },
     "execution_count": 15,
     "metadata": {},
     "output_type": "execute_result"
    }
   ],
   "source": [
    "filtered_df[filtered_df['Division']=='Expert 5.0+']"
   ]
  },
  {
   "cell_type": "code",
   "execution_count": 16,
   "metadata": {},
   "outputs": [],
   "source": [
    "cur_tourney_names = set(filtered_df['Tournament Name'].unique())"
   ]
  },
  {
   "cell_type": "code",
   "execution_count": 17,
   "metadata": {},
   "outputs": [
    {
     "data": {
      "text/plain": [
       "set()"
      ]
     },
     "execution_count": 17,
     "metadata": {},
     "output_type": "execute_result"
    }
   ],
   "source": [
    "og_tourney_names-cur_tourney_names"
   ]
  },
  {
   "cell_type": "code",
   "execution_count": 12,
   "metadata": {},
   "outputs": [],
   "source": [
    "unique_tuples = set(zip(filtered_df['Tournament Name'], filtered_df['Division']))"
   ]
  },
  {
   "cell_type": "code",
   "execution_count": 13,
   "metadata": {},
   "outputs": [
    {
     "data": {
      "text/plain": [
       "54"
      ]
     },
     "execution_count": 13,
     "metadata": {},
     "output_type": "execute_result"
    }
   ],
   "source": [
    "len(unique_tuples)"
   ]
  },
  {
   "cell_type": "code",
   "execution_count": 14,
   "metadata": {},
   "outputs": [],
   "source": [
    "cond1 = filtered_df['Score 1'] > 0\n",
    "cond2 = filtered_df['Score 2'] > 0\n",
    "\n",
    "filtered_df2 = filtered_df[cond1 | cond2]"
   ]
  },
  {
   "cell_type": "code",
   "execution_count": 15,
   "metadata": {},
   "outputs": [
    {
     "data": {
      "text/plain": [
       "(9538, 9)"
      ]
     },
     "execution_count": 15,
     "metadata": {},
     "output_type": "execute_result"
    }
   ],
   "source": [
    "filtered_df2.shape"
   ]
  },
  {
   "cell_type": "code",
   "execution_count": 16,
   "metadata": {},
   "outputs": [],
   "source": [
    "new_cond_1 = filtered_df2['Score 1'] == 0\n",
    "new_cond_2 = filtered_df2['Score 2'] == 0"
   ]
  },
  {
   "cell_type": "code",
   "execution_count": 17,
   "metadata": {},
   "outputs": [],
   "source": [
    "filtered_df3 = filtered_df2[new_cond_1 | new_cond_2]"
   ]
  },
  {
   "cell_type": "code",
   "execution_count": 21,
   "metadata": {},
   "outputs": [],
   "source": [
    "newest_cond_1 = (filtered_df3['Score 1'] == 0) & (filtered_df3['Score 2'] == 1)\n",
    "newest_cond_2 = (filtered_df3['Score 1'] == 1) & (filtered_df3['Score 2'] == 0)"
   ]
  },
  {
   "cell_type": "code",
   "execution_count": 22,
   "metadata": {},
   "outputs": [],
   "source": [
    "filtered_df4 = filtered_df3[~newest_cond_1 & ~newest_cond_2]"
   ]
  },
  {
   "cell_type": "code",
   "execution_count": 34,
   "metadata": {},
   "outputs": [
    {
     "data": {
      "text/plain": [
       "Team 1                                 Grab it Don't Slap it\n",
       "Team 2                                        Risky Business\n",
       "Players 1                     devin baron, keith fleischmann\n",
       "Players 2                          justin kehoe, kyle fowler\n",
       "Score 1                                                    2\n",
       "Score 2                                                    0\n",
       "Tournament Stage    Bracket play round of Round of 16 game 1\n",
       "Tournament Name                                    atlslam23\n",
       "Division                                      Contender 4.5+\n",
       "Name: 406, dtype: object"
      ]
     },
     "execution_count": 34,
     "metadata": {},
     "output_type": "execute_result"
    }
   ],
   "source": [
    "filtered_df4.iloc[56]"
   ]
  },
  {
   "cell_type": "code",
   "execution_count": 14,
   "metadata": {},
   "outputs": [],
   "source": [
    "filtered_df5 = filtered_df[(filtered_df['Score 1'] > 0) & (filtered_df['Score 2'] > 0)]"
   ]
  },
  {
   "cell_type": "code",
   "execution_count": 15,
   "metadata": {},
   "outputs": [
    {
     "data": {
      "text/html": [
       "<div>\n",
       "<style scoped>\n",
       "    .dataframe tbody tr th:only-of-type {\n",
       "        vertical-align: middle;\n",
       "    }\n",
       "\n",
       "    .dataframe tbody tr th {\n",
       "        vertical-align: top;\n",
       "    }\n",
       "\n",
       "    .dataframe thead th {\n",
       "        text-align: right;\n",
       "    }\n",
       "</style>\n",
       "<table border=\"1\" class=\"dataframe\">\n",
       "  <thead>\n",
       "    <tr style=\"text-align: right;\">\n",
       "      <th></th>\n",
       "      <th>Team 1</th>\n",
       "      <th>Team 2</th>\n",
       "      <th>Players 1</th>\n",
       "      <th>Players 2</th>\n",
       "      <th>Score 1</th>\n",
       "      <th>Score 2</th>\n",
       "      <th>Tournament Stage</th>\n",
       "      <th>Tournament Name</th>\n",
       "      <th>Division</th>\n",
       "    </tr>\n",
       "  </thead>\n",
       "  <tbody>\n",
       "    <tr>\n",
       "      <th>0</th>\n",
       "      <td>Quality Service</td>\n",
       "      <td>mikey.roundnet</td>\n",
       "      <td>andrew kosche, jacob payer</td>\n",
       "      <td>evan bock, max huang</td>\n",
       "      <td>18</td>\n",
       "      <td>21</td>\n",
       "      <td>Pool Play</td>\n",
       "      <td>casropen</td>\n",
       "      <td>Expert 5.0</td>\n",
       "    </tr>\n",
       "    <tr>\n",
       "      <th>1</th>\n",
       "      <td>Yourmom</td>\n",
       "      <td>BenDu Over</td>\n",
       "      <td>clifton miller, tucker judkins</td>\n",
       "      <td>benjamin banuelos, michael du</td>\n",
       "      <td>19</td>\n",
       "      <td>21</td>\n",
       "      <td>Pool Play</td>\n",
       "      <td>casropen</td>\n",
       "      <td>Expert 5.0</td>\n",
       "    </tr>\n",
       "    <tr>\n",
       "      <th>2</th>\n",
       "      <td>Backhand only</td>\n",
       "      <td>Ugly Finders</td>\n",
       "      <td>dean wasil, matt ortlip</td>\n",
       "      <td>aidan van eck, thomas pence</td>\n",
       "      <td>21</td>\n",
       "      <td>15</td>\n",
       "      <td>Pool Play</td>\n",
       "      <td>casropen</td>\n",
       "      <td>Expert 5.0</td>\n",
       "    </tr>\n",
       "    <tr>\n",
       "      <th>3</th>\n",
       "      <td>Take it ez john</td>\n",
       "      <td>Your Parents</td>\n",
       "      <td>ethan zehr, john choi</td>\n",
       "      <td>drew cummins, kayla wu</td>\n",
       "      <td>21</td>\n",
       "      <td>18</td>\n",
       "      <td>Pool Play</td>\n",
       "      <td>casropen</td>\n",
       "      <td>Expert 5.0</td>\n",
       "    </tr>\n",
       "    <tr>\n",
       "      <th>4</th>\n",
       "      <td>Shifty Without the F</td>\n",
       "      <td>Irritable Ball Shmackers</td>\n",
       "      <td>brandon brown, trevor barbosa</td>\n",
       "      <td>rafi moldovsky, william foote</td>\n",
       "      <td>21</td>\n",
       "      <td>15</td>\n",
       "      <td>Pool Play</td>\n",
       "      <td>casropen</td>\n",
       "      <td>Expert 5.0</td>\n",
       "    </tr>\n",
       "    <tr>\n",
       "      <th>...</th>\n",
       "      <td>...</td>\n",
       "      <td>...</td>\n",
       "      <td>...</td>\n",
       "      <td>...</td>\n",
       "      <td>...</td>\n",
       "      <td>...</td>\n",
       "      <td>...</td>\n",
       "      <td>...</td>\n",
       "      <td>...</td>\n",
       "    </tr>\n",
       "    <tr>\n",
       "      <th>75</th>\n",
       "      <td>WySpike Sweepers</td>\n",
       "      <td>PORKCHOP</td>\n",
       "      <td>colton mowry, nick noguez</td>\n",
       "      <td>felipe martinez, james ledbetter</td>\n",
       "      <td>21</td>\n",
       "      <td>18</td>\n",
       "      <td>Bracket play round of 3rd place game 2</td>\n",
       "      <td>waco2023</td>\n",
       "      <td>Gold 5.0</td>\n",
       "    </tr>\n",
       "    <tr>\n",
       "      <th>84</th>\n",
       "      <td>Baylor Toxicity</td>\n",
       "      <td>Bad setters</td>\n",
       "      <td>garrett ashton, bradley thompson</td>\n",
       "      <td>jacob gansle, kevin cadle</td>\n",
       "      <td>21</td>\n",
       "      <td>16</td>\n",
       "      <td>Bracket play round of P9: Quarter-finals game 1</td>\n",
       "      <td>waco2023</td>\n",
       "      <td>Gold 5.0</td>\n",
       "    </tr>\n",
       "    <tr>\n",
       "      <th>85</th>\n",
       "      <td>Baylor Toxicity</td>\n",
       "      <td>Bad setters</td>\n",
       "      <td>garrett ashton, bradley thompson</td>\n",
       "      <td>jacob gansle, kevin cadle</td>\n",
       "      <td>21</td>\n",
       "      <td>16</td>\n",
       "      <td>Bracket play round of P9: Quarter-finals game 2</td>\n",
       "      <td>waco2023</td>\n",
       "      <td>Gold 5.0</td>\n",
       "    </tr>\n",
       "    <tr>\n",
       "      <th>99</th>\n",
       "      <td>PORKCHOP</td>\n",
       "      <td>Hash Slinging Slashers</td>\n",
       "      <td>felipe martinez, james ledbetter</td>\n",
       "      <td>paul belton, walter siller</td>\n",
       "      <td>16</td>\n",
       "      <td>21</td>\n",
       "      <td>Bracket play round of P13: Final game 1</td>\n",
       "      <td>waco2023</td>\n",
       "      <td>Gold 5.0</td>\n",
       "    </tr>\n",
       "    <tr>\n",
       "      <th>100</th>\n",
       "      <td>PORKCHOP</td>\n",
       "      <td>Hash Slinging Slashers</td>\n",
       "      <td>felipe martinez, james ledbetter</td>\n",
       "      <td>paul belton, walter siller</td>\n",
       "      <td>16</td>\n",
       "      <td>21</td>\n",
       "      <td>Bracket play round of P13: Final game 2</td>\n",
       "      <td>waco2023</td>\n",
       "      <td>Gold 5.0</td>\n",
       "    </tr>\n",
       "  </tbody>\n",
       "</table>\n",
       "<p>13237 rows × 9 columns</p>\n",
       "</div>"
      ],
      "text/plain": [
       "                   Team 1                    Team 2  \\\n",
       "0         Quality Service            mikey.roundnet   \n",
       "1                 Yourmom                BenDu Over   \n",
       "2           Backhand only              Ugly Finders   \n",
       "3         Take it ez john              Your Parents   \n",
       "4    Shifty Without the F  Irritable Ball Shmackers   \n",
       "..                    ...                       ...   \n",
       "75       WySpike Sweepers                  PORKCHOP   \n",
       "84        Baylor Toxicity               Bad setters   \n",
       "85        Baylor Toxicity               Bad setters   \n",
       "99               PORKCHOP    Hash Slinging Slashers   \n",
       "100              PORKCHOP    Hash Slinging Slashers   \n",
       "\n",
       "                            Players 1                         Players 2  \\\n",
       "0          andrew kosche, jacob payer              evan bock, max huang   \n",
       "1      clifton miller, tucker judkins     benjamin banuelos, michael du   \n",
       "2             dean wasil, matt ortlip       aidan van eck, thomas pence   \n",
       "3               ethan zehr, john choi            drew cummins, kayla wu   \n",
       "4       brandon brown, trevor barbosa     rafi moldovsky, william foote   \n",
       "..                                ...                               ...   \n",
       "75          colton mowry, nick noguez  felipe martinez, james ledbetter   \n",
       "84   garrett ashton, bradley thompson         jacob gansle, kevin cadle   \n",
       "85   garrett ashton, bradley thompson         jacob gansle, kevin cadle   \n",
       "99   felipe martinez, james ledbetter        paul belton, walter siller   \n",
       "100  felipe martinez, james ledbetter        paul belton, walter siller   \n",
       "\n",
       "    Score 1 Score 2                                 Tournament Stage  \\\n",
       "0        18      21                                        Pool Play   \n",
       "1        19      21                                        Pool Play   \n",
       "2        21      15                                        Pool Play   \n",
       "3        21      18                                        Pool Play   \n",
       "4        21      15                                        Pool Play   \n",
       "..      ...     ...                                              ...   \n",
       "75       21      18           Bracket play round of 3rd place game 2   \n",
       "84       21      16  Bracket play round of P9: Quarter-finals game 1   \n",
       "85       21      16  Bracket play round of P9: Quarter-finals game 2   \n",
       "99       16      21          Bracket play round of P13: Final game 1   \n",
       "100      16      21          Bracket play round of P13: Final game 2   \n",
       "\n",
       "    Tournament Name    Division  \n",
       "0          casropen  Expert 5.0  \n",
       "1          casropen  Expert 5.0  \n",
       "2          casropen  Expert 5.0  \n",
       "3          casropen  Expert 5.0  \n",
       "4          casropen  Expert 5.0  \n",
       "..              ...         ...  \n",
       "75         waco2023    Gold 5.0  \n",
       "84         waco2023    Gold 5.0  \n",
       "85         waco2023    Gold 5.0  \n",
       "99         waco2023    Gold 5.0  \n",
       "100        waco2023    Gold 5.0  \n",
       "\n",
       "[13237 rows x 9 columns]"
      ]
     },
     "execution_count": 15,
     "metadata": {},
     "output_type": "execute_result"
    }
   ],
   "source": [
    "filtered_df5"
   ]
  },
  {
   "cell_type": "code",
   "execution_count": 16,
   "metadata": {},
   "outputs": [
    {
     "ename": "NameError",
     "evalue": "name 'filtered_df2' is not defined",
     "output_type": "error",
     "traceback": [
      "\u001b[1;31m---------------------------------------------------------------------------\u001b[0m",
      "\u001b[1;31mNameError\u001b[0m                                 Traceback (most recent call last)",
      "Cell \u001b[1;32mIn[16], line 1\u001b[0m\n\u001b[1;32m----> 1\u001b[0m filtered_df2[filtered_df2[\u001b[39m'\u001b[39m\u001b[39mScore 1\u001b[39m\u001b[39m'\u001b[39m]\u001b[39m==\u001b[39mfiltered_df2[\u001b[39m'\u001b[39m\u001b[39mScore 2\u001b[39m\u001b[39m'\u001b[39m]]\n",
      "\u001b[1;31mNameError\u001b[0m: name 'filtered_df2' is not defined"
     ]
    }
   ],
   "source": [
    "filtered_df2[filtered_df2['Score 1']==filtered_df2['Score 2']]"
   ]
  },
  {
   "cell_type": "code",
   "execution_count": 40,
   "metadata": {},
   "outputs": [
    {
     "name": "stderr",
     "output_type": "stream",
     "text": [
      "C:\\Users\\jaipa\\AppData\\Local\\Temp\\ipykernel_14148\\1818853145.py:1: SettingWithCopyWarning: \n",
      "A value is trying to be set on a copy of a slice from a DataFrame.\n",
      "Try using .loc[row_indexer,col_indexer] = value instead\n",
      "\n",
      "See the caveats in the documentation: https://pandas.pydata.org/pandas-docs/stable/user_guide/indexing.html#returning-a-view-versus-a-copy\n",
      "  filtered_df2['New Score 1'] = np.where(filtered_df2['Score 1'] > filtered_df2['Score 2'], 1, 0)\n",
      "C:\\Users\\jaipa\\AppData\\Local\\Temp\\ipykernel_14148\\1818853145.py:2: SettingWithCopyWarning: \n",
      "A value is trying to be set on a copy of a slice from a DataFrame.\n",
      "Try using .loc[row_indexer,col_indexer] = value instead\n",
      "\n",
      "See the caveats in the documentation: https://pandas.pydata.org/pandas-docs/stable/user_guide/indexing.html#returning-a-view-versus-a-copy\n",
      "  filtered_df2['New Score 2'] = np.where(filtered_df2['Score 2'] > filtered_df2['Score 1'], 1, 0)\n"
     ]
    }
   ],
   "source": [
    "filtered_df2['New Score 1'] = np.where(filtered_df2['Score 1'] > filtered_df2['Score 2'], 1, 0)\n",
    "filtered_df2['New Score 2'] = np.where(filtered_df2['Score 2'] > filtered_df2['Score 1'], 1, 0)\n"
   ]
  },
  {
   "cell_type": "code",
   "execution_count": 17,
   "metadata": {},
   "outputs": [
    {
     "name": "stderr",
     "output_type": "stream",
     "text": [
      "C:\\Users\\jaipa\\AppData\\Local\\Temp\\ipykernel_20208\\3036807646.py:1: SettingWithCopyWarning: \n",
      "A value is trying to be set on a copy of a slice from a DataFrame.\n",
      "Try using .loc[row_indexer,col_indexer] = value instead\n",
      "\n",
      "See the caveats in the documentation: https://pandas.pydata.org/pandas-docs/stable/user_guide/indexing.html#returning-a-view-versus-a-copy\n",
      "  filtered_df5['New Score 1'] = filtered_df5['Score 1']\n",
      "C:\\Users\\jaipa\\AppData\\Local\\Temp\\ipykernel_20208\\3036807646.py:2: SettingWithCopyWarning: \n",
      "A value is trying to be set on a copy of a slice from a DataFrame.\n",
      "Try using .loc[row_indexer,col_indexer] = value instead\n",
      "\n",
      "See the caveats in the documentation: https://pandas.pydata.org/pandas-docs/stable/user_guide/indexing.html#returning-a-view-versus-a-copy\n",
      "  filtered_df5['New Score 2'] = filtered_df5['Score 2']\n"
     ]
    }
   ],
   "source": [
    "filtered_df5['New Score 1'] = filtered_df5['Score 1']\n",
    "filtered_df5['New Score 2'] = filtered_df5['Score 2']"
   ]
  },
  {
   "cell_type": "code",
   "execution_count": 18,
   "metadata": {},
   "outputs": [],
   "source": [
    "final_df = filtered_df5[['Players 1', 'Players 2', 'New Score 1', 'New Score 2']]"
   ]
  },
  {
   "cell_type": "code",
   "execution_count": 19,
   "metadata": {},
   "outputs": [],
   "source": [
    "def fix_1_more_bug(s):\n",
    "    if \"1 more, \" in s:\n",
    "        return s.replace(\"1 more, \", \"\")\n",
    "    elif \"gabe finocchi\" in s:\n",
    "        return s.replace(\"gabe finocchi\", \"gabriel finocchi\")\n",
    "    return s"
   ]
  },
  {
   "cell_type": "code",
   "execution_count": 20,
   "metadata": {},
   "outputs": [
    {
     "name": "stderr",
     "output_type": "stream",
     "text": [
      "C:\\Users\\jaipa\\AppData\\Local\\Temp\\ipykernel_20208\\864172210.py:1: SettingWithCopyWarning: \n",
      "A value is trying to be set on a copy of a slice from a DataFrame.\n",
      "Try using .loc[row_indexer,col_indexer] = value instead\n",
      "\n",
      "See the caveats in the documentation: https://pandas.pydata.org/pandas-docs/stable/user_guide/indexing.html#returning-a-view-versus-a-copy\n",
      "  final_df['Players 1'] = final_df['Players 1'].map(fix_1_more_bug)\n",
      "C:\\Users\\jaipa\\AppData\\Local\\Temp\\ipykernel_20208\\864172210.py:2: SettingWithCopyWarning: \n",
      "A value is trying to be set on a copy of a slice from a DataFrame.\n",
      "Try using .loc[row_indexer,col_indexer] = value instead\n",
      "\n",
      "See the caveats in the documentation: https://pandas.pydata.org/pandas-docs/stable/user_guide/indexing.html#returning-a-view-versus-a-copy\n",
      "  final_df['Players 2'] = final_df['Players 2'].map(fix_1_more_bug)\n"
     ]
    }
   ],
   "source": [
    "final_df['Players 1'] = final_df['Players 1'].map(fix_1_more_bug)\n",
    "final_df['Players 2'] = final_df['Players 2'].map(fix_1_more_bug)"
   ]
  },
  {
   "cell_type": "code",
   "execution_count": 21,
   "metadata": {},
   "outputs": [],
   "source": [
    "final_df.to_csv(\"final_processed_points.csv\")"
   ]
  },
  {
   "cell_type": "code",
   "execution_count": 22,
   "metadata": {},
   "outputs": [
    {
     "data": {
      "text/plain": [
       "(13237, 4)"
      ]
     },
     "execution_count": 22,
     "metadata": {},
     "output_type": "execute_result"
    }
   ],
   "source": [
    "final_df['Players 1'].iloc[0].split(', ')\n",
    "final_df.shape"
   ]
  },
  {
   "cell_type": "code",
   "execution_count": 65,
   "metadata": {},
   "outputs": [],
   "source": [
    "part1 = final_df[final_df['New Score 1'] > final_df['New Score 2']]"
   ]
  },
  {
   "cell_type": "code",
   "execution_count": 66,
   "metadata": {},
   "outputs": [
    {
     "data": {
      "text/plain": [
       "20.34774754431523"
      ]
     },
     "execution_count": 66,
     "metadata": {},
     "output_type": "execute_result"
    }
   ],
   "source": [
    "part1['New Score 1'].mean()"
   ]
  },
  {
   "cell_type": "code",
   "execution_count": 67,
   "metadata": {},
   "outputs": [
    {
     "data": {
      "text/plain": [
       "14.575928644010387"
      ]
     },
     "execution_count": 67,
     "metadata": {},
     "output_type": "execute_result"
    }
   ],
   "source": [
    "part1['New Score 2'].mean()"
   ]
  },
  {
   "cell_type": "code",
   "execution_count": 68,
   "metadata": {},
   "outputs": [],
   "source": [
    "part2 = final_df[final_df['New Score 1'] < final_df['New Score 2']]"
   ]
  },
  {
   "cell_type": "code",
   "execution_count": 69,
   "metadata": {},
   "outputs": [
    {
     "data": {
      "text/plain": [
       "16.157234251968504"
      ]
     },
     "execution_count": 69,
     "metadata": {},
     "output_type": "execute_result"
    }
   ],
   "source": [
    "part2['New Score 1'].mean()"
   ]
  }
 ],
 "metadata": {
  "kernelspec": {
   "display_name": "ELO",
   "language": "python",
   "name": "python3"
  },
  "language_info": {
   "codemirror_mode": {
    "name": "ipython",
    "version": 3
   },
   "file_extension": ".py",
   "mimetype": "text/x-python",
   "name": "python",
   "nbconvert_exporter": "python",
   "pygments_lexer": "ipython3",
   "version": "3.8.5"
  },
  "orig_nbformat": 4
 },
 "nbformat": 4,
 "nbformat_minor": 2
}
