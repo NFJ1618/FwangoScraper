{
 "cells": [
  {
   "cell_type": "code",
   "execution_count": 8,
   "metadata": {},
   "outputs": [
    {
     "data": {
      "text/plain": [
       "trueskill.TrueSkill(mu=100.000, sigma=33.333, beta=16.667, tau=0.333, draw_probability=0.0%)"
      ]
     },
     "execution_count": 8,
     "metadata": {},
     "output_type": "execute_result"
    }
   ],
   "source": [
    "import trueskill\n",
    "import pandas as pd\n",
    "from collections import defaultdict\n",
    "#: Default initial mean of ratings.\n",
    "MU = 100.\n",
    "#: Default initial standard deviation of ratings.\n",
    "SIGMA = MU / 3\n",
    "#: Default distance that guarantees about 76% chance of winning.\n",
    "BETA = SIGMA / 2\n",
    "#: Default dynamic factor.\n",
    "TAU = SIGMA / 100\n",
    "#: Default draw probability of the game.\n",
    "DRAW_PROBABILITY = 0\n",
    "#: A basis to check reliability of the result.\n",
    "DELTA = 0.0001\n",
    "trueskill.setup(MU, SIGMA, BETA, TAU, DRAW_PROBABILITY)"
   ]
  },
  {
   "cell_type": "code",
   "execution_count": 2,
   "metadata": {},
   "outputs": [],
   "source": [
    "data = pd.read_csv('../csv/final_processed_wins.csv')"
   ]
  },
  {
   "cell_type": "code",
   "execution_count": 3,
   "metadata": {},
   "outputs": [],
   "source": [
    "def rating():\n",
    "    return trueskill.Rating()"
   ]
  },
  {
   "cell_type": "code",
   "execution_count": 11,
   "metadata": {},
   "outputs": [],
   "source": [
    "ratings = defaultdict(rating)"
   ]
  },
  {
   "cell_type": "code",
   "execution_count": 5,
   "metadata": {},
   "outputs": [],
   "source": [
    "X = [i for i in zip(data['Players 1'], data['Players 2'])]\n",
    "y = [i for i in zip(data['New Score 1'], data['New Score 2'], data['Category'])]"
   ]
  },
  {
   "cell_type": "code",
   "execution_count": 12,
   "metadata": {},
   "outputs": [],
   "source": [
    "for i in range(len(X)):\n",
    "    team1, team2 = X[i]\n",
    "    # print(team1)\n",
    "    team1_score, team2_score, _ = y[i]\n",
    "    p1, p2 = team1.split(\", \")\n",
    "    p3, p4 = team2.split(\", \")\n",
    "    p1r = ratings[p1]\n",
    "    p2r = ratings[p2]\n",
    "    p3r = ratings[p3]\n",
    "    p4r = ratings[p4]\n",
    "    new_ratings = trueskill.rate([(p1r, p2r), (p3r, p4r)], [team2_score, team1_score])\n",
    "    # print(p1r, p2r, p3r, p4r)\n",
    "    # print(team1_score, team2_score)\n",
    "    # print(new_ratings)\n",
    "    ratings[p1] = new_ratings[0][0]\n",
    "    ratings[p2] = new_ratings[0][1]\n",
    "    ratings[p3] = new_ratings[1][0]\n",
    "    ratings[p4] = new_ratings[1][1]"
   ]
  },
  {
   "cell_type": "code",
   "execution_count": 13,
   "metadata": {},
   "outputs": [],
   "source": [
    "r = []\n",
    "for k, v in ratings.items():\n",
    "    r.append((v.mu-3*v.sigma, v.mu, v.sigma, k))\n",
    "r = sorted(r,reverse=True)\n",
    "d =pd.DataFrame(r)\n",
    "d.to_csv('../csv/temp_trueskill')"
   ]
  }
 ],
 "metadata": {
  "kernelspec": {
   "display_name": "ELO",
   "language": "python",
   "name": "python3"
  },
  "language_info": {
   "codemirror_mode": {
    "name": "ipython",
    "version": 3
   },
   "file_extension": ".py",
   "mimetype": "text/x-python",
   "name": "python",
   "nbconvert_exporter": "python",
   "pygments_lexer": "ipython3",
   "version": "3.8.5"
  }
 },
 "nbformat": 4,
 "nbformat_minor": 2
}
