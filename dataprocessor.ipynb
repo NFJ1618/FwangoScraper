{
 "cells": [
  {
   "cell_type": "code",
   "execution_count": 1,
   "metadata": {},
   "outputs": [],
   "source": [
    "import pandas as pd\n",
    "import os\n",
    "import numpy as np"
   ]
  },
  {
   "cell_type": "code",
   "execution_count": 2,
   "metadata": {},
   "outputs": [],
   "source": [
    "ststournaments = [\n",
    "\"saltlakecity2023\",\n",
    "\"richmond2023\",\n",
    "\"philadelphia2023\",\n",
    "\"scgrandslam2023\",\n",
    "\"thepeopleschampionship\",\n",
    "\"heatwavevi\",\n",
    "\"rivercup\",\n",
    "\"ers23md\",\n",
    "\"nashvillecup2023\",\n",
    "\"etslondon2023\",\n",
    "\"windy-city-classic-23\",\n",
    "\"coupeestivale\",\n",
    "\"long-island-classic-2023\",\n",
    "\"sts23portlandopen\",\n",
    "\"toulouse2023\",\n",
    "\"ers23nova\",\n",
    "\"sdgrandslam2023\",\n",
    "\"queencityclassic2023\",\n",
    "\"stockholm\",\n",
    "\"atlslam23\",\n",
    "\"etsprague2023\",\n",
    "\"tograndslam2023\",\n",
    "]\n"
   ]
  },
  {
   "cell_type": "code",
   "execution_count": 3,
   "metadata": {},
   "outputs": [],
   "source": [
    "# dfs = []\n",
    "# for i in ststournaments:\n",
    "#     with open(f\"sts/{i}/games.csv\") as f:\n",
    "#         dfs.append(pd.read_csv(f))"
   ]
  },
  {
   "cell_type": "code",
   "execution_count": 4,
   "metadata": {},
   "outputs": [],
   "source": [
    "# len(dfs)"
   ]
  },
  {
   "cell_type": "code",
   "execution_count": 5,
   "metadata": {},
   "outputs": [],
   "source": [
    "with open('merged.csv') as f:\n",
    "    merged_dfs = pd.read_csv(f)"
   ]
  },
  {
   "cell_type": "code",
   "execution_count": 6,
   "metadata": {},
   "outputs": [
    {
     "data": {
      "text/plain": [
       "array(['Premier 5.0+', \"Women's Advanced 4.0+\", 'Contender 4.5+',\n",
       "       'Intermediate/Advanced 3.0-4.0', 'Mixed Advanced 4.0+',\n",
       "       'Advanced 4.0', \"Women's Intermediate 2.0-3.0\", 'Intermediate 3.0',\n",
       "       'Mixed Intermediate 2.0-3.0', 'Expert 5.0+', 'Contender 4.5',\n",
       "       'Womens 4.0+', 'Mixed 4.0+', 'Premier', 'Womens', 'Contender',\n",
       "       'Intermediate', 'Premier 5.0', 'Contenders 4.5',\n",
       "       \"4.0+ Women's Advanced\", '5.0+ Premier (Open)',\n",
       "       '4.5+ Contender (Open)', '4.0 Advanced',\n",
       "       '2.0-3.0 Open Intermediate', 'Premier (5.0)', 'Open Gold/Premier',\n",
       "       \"Women's Advanced\", 'Open Contender',\n",
       "       'Open Social (Beginner + Intermediate)', 'Mixed Advanced',\n",
       "       'Mixed Beginner/Intermediate', 'Premier(5.0)', 'Women’s',\n",
       "       'Contender(4.5)', 'Advanced(4.0)', 'Intermediate(3.0)',\n",
       "       'Mixed Advanced(4.0+)', 'Mixed Intermediate(2.0-3.0)',\n",
       "       'Intermediate 2.0-3.0', 'Premier (5.0+)', 'Contender (4.5)',\n",
       "       'Advanced (4.0)', 'Intermediate (3.0)',\n",
       "       'Mixed / Co-ED Advanced (4.0+)', 'Beginner/Intermediate 2.0-3.0',\n",
       "       '4.0 Open Advanced', 'Advanced 3.0+', 'Intermediate 2.0+',\n",
       "       'Open Advanced'], dtype=object)"
      ]
     },
     "execution_count": 6,
     "metadata": {},
     "output_type": "execute_result"
    }
   ],
   "source": [
    "merged_dfs['Division'].unique()"
   ]
  },
  {
   "cell_type": "code",
   "execution_count": 7,
   "metadata": {},
   "outputs": [
    {
     "name": "stderr",
     "output_type": "stream",
     "text": [
      "c:\\Users\\jaipa\\miniconda3\\envs\\ELO\\lib\\site-packages\\pandas\\core\\strings.py:2001: UserWarning: This pattern has match groups. To actually get the groups, use str.extract.\n",
      "  return func(self, *args, **kwargs)\n"
     ]
    }
   ],
   "source": [
    "s  = ['Premier 5.0+', \"Women's Advanced 4.0+\", 'Contender 4.5+',\n",
    "       'Mixed Advanced 4.0+',       \n",
    "       'Expert 5.0+', 'Contender 4.5',\n",
    "       'Womens 4.0+', 'Mixed 4.0+', 'Premier', 'Womens', 'Contender',\n",
    "       'Premier 5.0', 'Contenders 4.5',\n",
    "       \"4.0+ Women's Advanced\", '5.0+ Premier (Open)',\n",
    "       '4.5+ Contender (Open)',\n",
    "         'Premier (5.0)', 'Open Gold/Premier',\n",
    "       \"Women's Advanced\", 'Open Contender',\n",
    "        'Mixed Advanced',\n",
    "        'Premier(5.0)', 'Women’s',\n",
    "       'Contender(4.5)',\n",
    "       'Mixed Advanced(4.0+)', 'Premier (5.0+)', 'Contender (4.5)',\n",
    "       'Mixed / Co-ED Advanced (4.0+)']\n",
    "\n",
    "search_strings = ['Contender', 'Premier', '5.0', '4.5', 'Women', 'Mixed']\n",
    "\n",
    "filtered_df = merged_dfs[merged_dfs['Division'].str.contains('|'.join(s))]\n"
   ]
  },
  {
   "cell_type": "code",
   "execution_count": 8,
   "metadata": {},
   "outputs": [
    {
     "data": {
      "text/plain": [
       "(11991, 10)"
      ]
     },
     "execution_count": 8,
     "metadata": {},
     "output_type": "execute_result"
    }
   ],
   "source": [
    "filtered_df.shape"
   ]
  },
  {
   "cell_type": "code",
   "execution_count": 9,
   "metadata": {},
   "outputs": [],
   "source": [
    "cond1 = filtered_df['Score 1'] > 0\n",
    "cond2 = filtered_df['Score 2'] > 0\n",
    "\n",
    "filtered_df2 = filtered_df[cond1 | cond2]"
   ]
  },
  {
   "cell_type": "code",
   "execution_count": 10,
   "metadata": {},
   "outputs": [
    {
     "data": {
      "text/plain": [
       "(10510, 10)"
      ]
     },
     "execution_count": 10,
     "metadata": {},
     "output_type": "execute_result"
    }
   ],
   "source": [
    "filtered_df2.shape"
   ]
  },
  {
   "cell_type": "code",
   "execution_count": 11,
   "metadata": {},
   "outputs": [
    {
     "data": {
      "text/html": [
       "<div>\n",
       "<style scoped>\n",
       "    .dataframe tbody tr th:only-of-type {\n",
       "        vertical-align: middle;\n",
       "    }\n",
       "\n",
       "    .dataframe tbody tr th {\n",
       "        vertical-align: top;\n",
       "    }\n",
       "\n",
       "    .dataframe thead th {\n",
       "        text-align: right;\n",
       "    }\n",
       "</style>\n",
       "<table border=\"1\" class=\"dataframe\">\n",
       "  <thead>\n",
       "    <tr style=\"text-align: right;\">\n",
       "      <th></th>\n",
       "      <th>Unnamed: 0</th>\n",
       "      <th>Team 1</th>\n",
       "      <th>Team 2</th>\n",
       "      <th>Players 1</th>\n",
       "      <th>Players 2</th>\n",
       "      <th>Score 1</th>\n",
       "      <th>Score 2</th>\n",
       "      <th>Tournament Stage</th>\n",
       "      <th>Tournament Name</th>\n",
       "      <th>Division</th>\n",
       "    </tr>\n",
       "  </thead>\n",
       "  <tbody>\n",
       "  </tbody>\n",
       "</table>\n",
       "</div>"
      ],
      "text/plain": [
       "Empty DataFrame\n",
       "Columns: [Unnamed: 0, Team 1, Team 2, Players 1, Players 2, Score 1, Score 2, Tournament Stage, Tournament Name, Division]\n",
       "Index: []"
      ]
     },
     "execution_count": 11,
     "metadata": {},
     "output_type": "execute_result"
    }
   ],
   "source": [
    "filtered_df2[filtered_df2['Score 1']==filtered_df2['Score 2']]"
   ]
  },
  {
   "cell_type": "code",
   "execution_count": 12,
   "metadata": {},
   "outputs": [
    {
     "name": "stderr",
     "output_type": "stream",
     "text": [
      "C:\\Users\\jaipa\\AppData\\Local\\Temp\\ipykernel_38160\\1818853145.py:1: SettingWithCopyWarning: \n",
      "A value is trying to be set on a copy of a slice from a DataFrame.\n",
      "Try using .loc[row_indexer,col_indexer] = value instead\n",
      "\n",
      "See the caveats in the documentation: https://pandas.pydata.org/pandas-docs/stable/user_guide/indexing.html#returning-a-view-versus-a-copy\n",
      "  filtered_df2['New Score 1'] = np.where(filtered_df2['Score 1'] > filtered_df2['Score 2'], 1, 0)\n",
      "C:\\Users\\jaipa\\AppData\\Local\\Temp\\ipykernel_38160\\1818853145.py:2: SettingWithCopyWarning: \n",
      "A value is trying to be set on a copy of a slice from a DataFrame.\n",
      "Try using .loc[row_indexer,col_indexer] = value instead\n",
      "\n",
      "See the caveats in the documentation: https://pandas.pydata.org/pandas-docs/stable/user_guide/indexing.html#returning-a-view-versus-a-copy\n",
      "  filtered_df2['New Score 2'] = np.where(filtered_df2['Score 2'] > filtered_df2['Score 1'], 1, 0)\n"
     ]
    }
   ],
   "source": [
    "filtered_df2['New Score 1'] = np.where(filtered_df2['Score 1'] > filtered_df2['Score 2'], 1, 0)\n",
    "filtered_df2['New Score 2'] = np.where(filtered_df2['Score 2'] > filtered_df2['Score 1'], 1, 0)\n"
   ]
  },
  {
   "cell_type": "code",
   "execution_count": 13,
   "metadata": {},
   "outputs": [],
   "source": [
    "final_df = filtered_df2[['Players 1', 'Players 2', 'New Score 1', 'New Score 2']]"
   ]
  },
  {
   "cell_type": "code",
   "execution_count": 14,
   "metadata": {},
   "outputs": [],
   "source": [
    "final_df.to_csv(\"final_processed.csv\")"
   ]
  },
  {
   "cell_type": "code",
   "execution_count": 15,
   "metadata": {},
   "outputs": [
    {
     "data": {
      "text/plain": [
       "['gabriel finocchi', 'fredric hinkle']"
      ]
     },
     "execution_count": 15,
     "metadata": {},
     "output_type": "execute_result"
    }
   ],
   "source": [
    "final_df['Players 1'].iloc[0].split(', ')"
   ]
  }
 ],
 "metadata": {
  "kernelspec": {
   "display_name": "ELO",
   "language": "python",
   "name": "python3"
  },
  "language_info": {
   "codemirror_mode": {
    "name": "ipython",
    "version": 3
   },
   "file_extension": ".py",
   "mimetype": "text/x-python",
   "name": "python",
   "nbconvert_exporter": "python",
   "pygments_lexer": "ipython3",
   "version": "3.8.5"
  },
  "orig_nbformat": 4
 },
 "nbformat": 4,
 "nbformat_minor": 2
}
